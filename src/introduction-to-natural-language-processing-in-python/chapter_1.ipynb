{
 "metadata": {
  "language_info": {
   "codemirror_mode": {
    "name": "ipython",
    "version": 3
   },
   "file_extension": ".py",
   "mimetype": "text/x-python",
   "name": "python",
   "nbconvert_exporter": "python",
   "pygments_lexer": "ipython3",
   "version": "3.8.5-final"
  },
  "orig_nbformat": 2,
  "kernelspec": {
   "name": "python38564bitvenvvenva59d410c0979443fb73e1b1d0e1cadd2",
   "display_name": "Python 3.8.5 64-bit ('venv': venv)"
  }
 },
 "nbformat": 4,
 "nbformat_minor": 2,
 "cells": [
  {
   "cell_type": "code",
   "execution_count": 14,
   "metadata": {
    "tags": []
   },
   "outputs": [],
   "source": [
    "!source ../venv/bin/activate\n",
    "import re"
   ]
  },
  {
   "cell_type": "code",
   "execution_count": 2,
   "metadata": {},
   "outputs": [
    {
     "output_type": "execute_result",
     "data": {
      "text/plain": "<re.Match object; span=(0, 3), match='abc'>"
     },
     "metadata": {},
     "execution_count": 2
    }
   ],
   "source": [
    "re.split('\\s+', 'Split on spaces.')\n",
    "re.match('abc', 'abcdef')"
   ]
  },
  {
   "cell_type": "markdown",
   "metadata": {},
   "source": [
    "### Introduction"
   ]
  },
  {
   "cell_type": "code",
   "execution_count": 3,
   "metadata": {},
   "outputs": [],
   "source": [
    "my_string = \"Let's write RegEx!\"\n",
    "# 最初にrをつけるのは，\\nを改行とみなさずraw valueとみなすため\n",
    "PATTERNS = [r'\\s+', r'\\w+', r'[a-z]', r'\\w']"
   ]
  },
  {
   "cell_type": "code",
   "execution_count": 4,
   "metadata": {
    "tags": []
   },
   "outputs": [
    {
     "output_type": "stream",
     "name": "stdout",
     "text": "正規表現 \\s+\n[' ', ' ']\n正規表現 \\w+\n['Let', 's', 'write', 'RegEx']\n正規表現 [a-z]\n['e', 't', 's', 'w', 'r', 'i', 't', 'e', 'e', 'g', 'x']\n正規表現 \\w\n['L', 'e', 't', 's', 'w', 'r', 'i', 't', 'e', 'R', 'e', 'g', 'E', 'x']\n"
    }
   ],
   "source": [
    "for PATTERN in PATTERNS:\n",
    "    print(f'正規表現 {PATTERN}')\n",
    "    print(re.findall(PATTERN, my_string))"
   ]
  },
  {
   "cell_type": "markdown",
   "metadata": {},
   "source": [
    "### split() and findall()"
   ]
  },
  {
   "cell_type": "code",
   "execution_count": 5,
   "metadata": {},
   "outputs": [],
   "source": [
    "my_string = \"Let's write RegEx!  Won't that be fun?  I sure think so.  Can you find 4 sentences?  Or perhaps, all 19 words?\""
   ]
  },
  {
   "cell_type": "code",
   "execution_count": 6,
   "metadata": {
    "tags": []
   },
   "outputs": [
    {
     "output_type": "stream",
     "name": "stdout",
     "text": "[\"Let's write RegEx\", \"  Won't that be fun\", '  I sure think so', '  Can you find 4 sentences', '  Or perhaps, all 19 words', '']\n['Let', 'RegEx', 'Won', 'Can', 'Or']\n[\"Let's\", 'write', 'RegEx!', \"Won't\", 'that', 'be', 'fun?', 'I', 'sure', 'think', 'so.', 'Can', 'you', 'find', '4', 'sentences?', 'Or', 'perhaps,', 'all', '19', 'words?']\n['4', '19']\n"
    }
   ],
   "source": [
    "# センテンスごとに分割\n",
    "sentence_ending = r'[$.?!]'\n",
    "print(re.split(sentence_ending, my_string))\n",
    "# 大文字から始まる単語を取得\n",
    "capitalized_words = r'[A-Z]\\w+'\n",
    "print(re.findall(capitalized_words, my_string))\n",
    "# スペースごとに分割\n",
    "spaces = r'\\s+'\n",
    "print(re.split(spaces, my_string))\n",
    "# 数値を取得\n",
    "digits = r'\\d+'\n",
    "print(re.findall(digits, my_string))"
   ]
  },
  {
   "cell_type": "markdown",
   "metadata": {},
   "source": [
    "### Word tokenization with NLTK"
   ]
  },
  {
   "cell_type": "code",
   "execution_count": 4,
   "metadata": {},
   "outputs": [],
   "source": [
    "scene_one = \"SCENE 1: [wind] [clop clop clop] \\nKING ARTHUR: Whoa there!  [clop clop clop] \\nSOLDIER #1: Halt!  Who goes there?\\nARTHUR: It is I, Arthur, son of Uther Pendragon, from the castle of Camelot.  King of the Britons, defeator of the Saxons, sovereign of all England!\\nSOLDIER #1: Pull the other one!\\nARTHUR: I am, ...  and this is my trusty servant Patsy.  We have ridden the length and breadth of the land in search of knights who will join me in my court at Camelot.  I must speak with your lord and master.\\nSOLDIER #1: What?  Ridden on a horse?\\nARTHUR: Yes!\\nSOLDIER #1: You're using coconuts!\\nARTHUR: What?\\nSOLDIER #1: You've got two empty halves of coconut and you're bangin' 'em together.\\nARTHUR: So?  We have ridden since the snows of winter covered this land, through the kingdom of Mercea, through--\\nSOLDIER #1: Where'd you get the coconuts?\\nARTHUR: We found them.\\nSOLDIER #1: Found them?  In Mercea?  The coconut's tropical!\\nARTHUR: What do you mean?\\nSOLDIER #1: Well, this is a temperate zone.\\nARTHUR: The swallow may fly south with the sun or the house martin or the plover may seek warmer climes in winter, yet these are not strangers to our land?\\nSOLDIER #1: Are you suggesting coconuts migrate?\\nARTHUR: Not at all.  They could be carried.\\nSOLDIER #1: What?  A swallow carrying a coconut?\\nARTHUR: It could grip it by the husk!\\nSOLDIER #1: It's not a question of where he grips it!  It's a simple question of weight ratios!  A five ounce bird could not carry a one pound coconut.\\nARTHUR: Well, it doesn't matter.  Will you go and tell your master that Arthur from the Court of Camelot is here.\\nSOLDIER #1: Listen.  In order to maintain air-speed velocity, a swallow needs to beat its wings forty-three times every second, right?\\nARTHUR: Please!\\nSOLDIER #1: Am I right?\\nARTHUR: I'm not interested!\\nSOLDIER #2: It could be carried by an African swallow!\\nSOLDIER #1: Oh, yeah, an African swallow maybe, but not a European swallow.  That's my point.\\nSOLDIER #2: Oh, yeah, I agree with that.\\nARTHUR: Will you ask your master if he wants to join my court at Camelot?!\\nSOLDIER #1: But then of course a-- African swallows are non-migratory.\\nSOLDIER #2: Oh, yeah...\\nSOLDIER #1: So they couldn't bring a coconut back anyway...  [clop clop clop] \\nSOLDIER #2: Wait a minute!  Supposing two swallows carried it together?\\nSOLDIER #1: No, they'd have to have it on a line.\\nSOLDIER #2: Well, simple!  They'd just use a strand of creeper!\\nSOLDIER #1: What, held under the dorsal guiding feathers?\\nSOLDIER #2: Well, why not?\\n\""
   ]
  },
  {
   "cell_type": "code",
   "execution_count": 8,
   "metadata": {
    "tags": []
   },
   "outputs": [
    {
     "output_type": "stream",
     "name": "stderr",
     "text": "[nltk_data] Downloading package punkt to /Users/masakazu/nltk_data...\n[nltk_data]   Unzipping tokenizers/punkt.zip.\n"
    }
   ],
   "source": [
    "import ssl\n",
    "ssl._create_default_https_context = ssl._create_unverified_context\n",
    "\n",
    "import nltk\n",
    "nltk.download('punkt')"
   ]
  },
  {
   "cell_type": "code",
   "execution_count": 12,
   "metadata": {
    "tags": []
   },
   "outputs": [
    {
     "output_type": "stream",
     "name": "stdout",
     "text": "{'carry', 'under', 'use', 'all', 'five', ':', 'Pendragon', 'We', \"'re\", 'he', 'European', 'Wait', 'through', 'order', 'bangin', 'then', 'go', 'wings', 'Who', 'matter', 'coconut', 'So', 'temperate', '?', 'held', 'on', 'needs', 'warmer', 'breadth', 'since', 'question', 'join', 'they', 'seek', 'at', 'second', 'knights', 'swallows', 'Ridden', 'pound', 'tropical', 'other', 'there', \"'em\", 'not', 'son', 'King', 'Well', 'velocity', \"'\", 'What', 'back', 'SCENE', 'minute', 'weight', 'will', 'carried', 'That', 'that', 'Oh', 'suggesting', 'times', 'grip', 'The', \"n't\", 'air-speed', 'the', '[', 'husk', 'Please', 'Where', 'goes', 'with', 'master', 'strangers', 'beat', '.', 'but', 'land', 'lord', 'bird', 'feathers', 'Found', 'No', 'empty', 'be', 'get', 'found', ']', 'covered', 'you', \"'s\", 'this', 'ridden', 'ratios', 'SOLDIER', 'me', 'court', 'are', 'castle', '#', 'an', 'You', 'dorsal', 'two', 'strand', 'defeator', 'search', 'wants', 'swallow', 'They', 'In', 'KING', 'Britons', 'winter', 'house', 'Listen', 'maintain', 'and', 'snows', 'Mercea', 'by', \"'m\", 'Am', 'guiding', 'Whoa', 'it', 'them', 'zone', 'could', 'I', 'here', 'in', 'Will', '1', 'who', 'Saxons', 'is', 'It', 'sun', 'Court', 'interested', 'to', 'tell', 'ounce', 'why', 'anyway', '!', 'England', 'south', 'point', 'non-migratory', \"'ve\", 'Arthur', 'Not', 'ask', 'carrying', 'ARTHUR', 'A', 'yeah', 'creeper', 'our', ',', 'using', 'maybe', 'trusty', 'together', 'wind', 'mean', 'agree', 'yet', 'migrate', '2', 'my', 'got', 'Yes', 'speak', 'clop', 'a', 'these', 'every', 'But', 'Camelot', 'one', 'have', 'may', 'forty-three', 'length', 'martin', 'right', 'course', 'sovereign', 'its', 'Are', 'Pull', 'fly', 'where', 'from', 'Halt', 'or', 'Uther', 'coconuts', 'servant', 'if', 'grips', 'plover', 'climes', 'must', \"'d\", 'Patsy', 'horse', 'kingdom', 'Supposing', 'just', 'does', 'line', '--', '...', 'halves', 'your', 'am', 'simple', 'African', 'bring', 'do', 'of'}\n"
    }
   ],
   "source": [
    "from nltk.tokenize import word_tokenize, sent_tokenize\n",
    "# センテンスごとに分割\n",
    "sentences = sent_tokenize(scene_one)\n",
    "# トークナイズ\n",
    "tokenized_sent = word_tokenize(sentences[3])\n",
    "\n",
    "unique_tokens = set(word_tokenize(scene_one))\n",
    "\n",
    "print(unique_tokens)"
   ]
  },
  {
   "cell_type": "markdown",
   "metadata": {},
   "source": [
    "### More regex with re.search()"
   ]
  },
  {
   "cell_type": "code",
   "execution_count": 20,
   "metadata": {
    "tags": []
   },
   "outputs": [
    {
     "output_type": "stream",
     "name": "stdout",
     "text": "<re.Match object; span=(9, 32), match='[wind] [clop clop clop]'>\n"
    }
   ],
   "source": [
    "# []に囲まれている箇所を取得\n",
    "pattern1 = r'\\[.*\\]'\n",
    "print(re.search(pattern1, scene_one))"
   ]
  },
  {
   "cell_type": "code",
   "execution_count": 21,
   "metadata": {
    "tags": []
   },
   "outputs": [
    {
     "output_type": "stream",
     "name": "stdout",
     "text": "<re.Match object; span=(0, 7), match='ARTHUR:'>\n"
    }
   ],
   "source": [
    "# :が後につく単語\n",
    "pattern2 = r'[^\\d]+:'\n",
    "print(re.match(pattern2, sentences[3]))"
   ]
  },
  {
   "cell_type": "code",
   "execution_count": null,
   "metadata": {},
   "outputs": [],
   "source": []
  },
  {
   "cell_type": "code",
   "execution_count": null,
   "metadata": {},
   "outputs": [],
   "source": []
  },
  {
   "cell_type": "code",
   "execution_count": null,
   "metadata": {},
   "outputs": [],
   "source": []
  },
  {
   "cell_type": "code",
   "execution_count": null,
   "metadata": {},
   "outputs": [],
   "source": []
  },
  {
   "cell_type": "code",
   "execution_count": null,
   "metadata": {},
   "outputs": [],
   "source": []
  },
  {
   "cell_type": "code",
   "execution_count": null,
   "metadata": {},
   "outputs": [],
   "source": []
  },
  {
   "cell_type": "code",
   "execution_count": null,
   "metadata": {},
   "outputs": [],
   "source": []
  },
  {
   "cell_type": "code",
   "execution_count": null,
   "metadata": {},
   "outputs": [],
   "source": []
  },
  {
   "cell_type": "code",
   "execution_count": null,
   "metadata": {},
   "outputs": [],
   "source": []
  },
  {
   "cell_type": "code",
   "execution_count": null,
   "metadata": {},
   "outputs": [],
   "source": []
  },
  {
   "cell_type": "code",
   "execution_count": null,
   "metadata": {},
   "outputs": [],
   "source": []
  },
  {
   "cell_type": "code",
   "execution_count": null,
   "metadata": {},
   "outputs": [],
   "source": []
  },
  {
   "cell_type": "code",
   "execution_count": null,
   "metadata": {},
   "outputs": [],
   "source": []
  }
 ]
}